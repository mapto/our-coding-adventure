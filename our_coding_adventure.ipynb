{
 "cells": [
  {
   "cell_type": "markdown",
   "metadata": {
    "id": "62q8MT1gZwzS"
   },
   "source": [
    "# D-SAIL'2025: Our Coding Adventure\n",
    "## Using LLMs to Adapt the Narrative of Tangible Programming Robot for Preschoolers\n",
    "\n",
    "This script downloads the models and queries them. This script is available at https://github.com/mapto/our-coding-adventure and presented at the D-SAIL Workshop - Transformative Curriculum Design: Digitalisation, Sustainability, and AI Literacy for 21st Century Learning (https://d-sail.itd.cnr.it)\n",
    "\n",
    "A separate script converts the generated markdown output into a minipage-based overview."
   ]
  },
  {
   "cell_type": "markdown",
   "metadata": {},
   "source": [
    "Install and load dependencies"
   ]
  },
  {
   "cell_type": "code",
   "execution_count": null,
   "metadata": {},
   "outputs": [],
   "source": [
    "!pip install llama-cpp-python==0.3.9 huggingface-hub==0.31.4"
   ]
  },
  {
   "cell_type": "code",
   "execution_count": null,
   "metadata": {
    "id": "8sfgA2aXaTgD"
   },
   "outputs": [],
   "source": [
    "from llama_cpp import Llama"
   ]
  },
  {
   "cell_type": "markdown",
   "metadata": {},
   "source": [
    "Specify which models to use. As it can be seen here, all used models are quantisations published by https://huggingface.co/bartowski"
   ]
  },
  {
   "cell_type": "code",
   "execution_count": null,
   "metadata": {},
   "outputs": [],
   "source": [
    "models = [\n",
    "    {\n",
    "        \"repo\": \"bartowski/gemma-2-9b-it-GGUF\",\n",
    "        \"file\": \"gemma-2-9b-it-Q3_K_XL.gguf\",\n",
    "    },\n",
    "    {\n",
    "        \"repo\": \"bartowski/OLMo-2-1124-7B-Instruct-GGUF\",\n",
    "        \"file\": \"OLMo-2-1124-7B-Instruct-Q3_K_XL.gguf\",\n",
    "    },\n",
    "    {\n",
    "        \"repo\": \"bartowski/Mistral-7B-Instruct-v0.3-GGUF\",\n",
    "        \"file\": \"Mistral-7B-Instruct-v0.3-Q3_K_L.gguf\",\n",
    "    },\n",
    "    {\n",
    "        \"repo\": \"bartowski/Qwen2.5-7B-Instruct-GGUF\",\n",
    "        \"file\": \"Qwen2.5-7B-Instruct-Q3_K_XL.gguf\",\n",
    "    },\n",
    "    {\n",
    "        \"repo\": \"bartowski/Meta-Llama-3.1-8B-Instruct-GGUF\",\n",
    "        \"file\": \"Meta-Llama-3.1-8B-Instruct-Q3_K_XL.gguf\",\n",
    "    },\n",
    "]"
   ]
  },
  {
   "cell_type": "markdown",
   "metadata": {},
   "source": [
    "Specify prompt and parameters"
   ]
  },
  {
   "cell_type": "code",
   "execution_count": null,
   "metadata": {},
   "outputs": [],
   "source": [
    "prompt_templ = \"\"\"Suggest to a teacher a game with the Cubetto tangible programming toy for preschool children. It should be about {world}, involve {objects} and children should use Cubetto to {task}. Only three Cubetto command blocks should be used: forward, turn left and turn right. The description should be about half a page long.\"\"\"\n",
    "\n",
    "params = [\n",
    "    {\n",
    "        \"world\": \"pirates\",\n",
    "        \"objects\": \"Lego figures\",\n",
    "        \"task\": \"find a treasure\",\n",
    "    },\n",
    "    {\n",
    "        \"world\": \"Wild West\",\n",
    "        \"objects\": \"Brio trains\",\n",
    "        \"task\": \"rescue someone\",\n",
    "    },\n",
    "    {\n",
    "        \"world\": \"superheroes\",\n",
    "        \"objects\": \"Hot Wheels cars\",\n",
    "        \"task\": \"enact a struggle\",\n",
    "    },\n",
    "    {\n",
    "        \"world\": \"knights and princesses\",\n",
    "        \"objects\": \"Barbie dolls\",\n",
    "        \"task\": \"enact a pursuit\",\n",
    "    },\n",
    "]"
   ]
  },
  {
   "cell_type": "markdown",
   "metadata": {},
   "source": [
    "For each model and parameter set, fill the parameters in the prompt, feed it to the model, and store composed prompt and response."
   ]
  },
  {
   "cell_type": "code",
   "execution_count": null,
   "metadata": {
    "id": "4RzD5INGPkVI",
    "scrolled": true
   },
   "outputs": [],
   "source": [
    "for m in models:\n",
    "    mname = m[\"repo\"].split(\"/\")[1].split(\"-\")[0]\n",
    "    print(mname)\n",
    "    llm = Llama.from_pretrained(\n",
    "        repo_id=m[\"repo\"],\n",
    "        filename=m[\"file\"],\n",
    "        n_gpu_layers=-1,\n",
    "        flash_attn=True,\n",
    "    )\n",
    "    for p in params:\n",
    "        prompt = prompt_templ.format(**p)\n",
    "        msg = [{\"role\": \"user\", \"content\": prompt}]\n",
    "        output = llm.create_chat_completion(messages=msg, temperature=0)\n",
    "        result = output[\"choices\"][0][\"message\"][\"content\"]\n",
    "        fname = f'results/{mname}-{p[\"world\"]}-{p[\"objects\"]}-{p[\"task\"]}.txt'\n",
    "        with open(fname, \"w\") as fout:\n",
    "            fout.write(f\"{m['repo'].split('/')[1]}\\n{prompt}\\n\\n-------------------\\n{result}\")"
   ]
  }
 ],
 "metadata": {
  "accelerator": "GPU",
  "colab": {
   "gpuType": "T4",
   "provenance": []
  },
  "kernelspec": {
   "display_name": "cubetto",
   "language": "python",
   "name": "cubetto"
  },
  "language_info": {
   "codemirror_mode": {
    "name": "ipython",
    "version": 3
   },
   "file_extension": ".py",
   "mimetype": "text/x-python",
   "name": "python",
   "nbconvert_exporter": "python",
   "pygments_lexer": "ipython3",
   "version": "3.10.12"
  },
  "widgets": {
   "application/vnd.jupyter.widget-state+json": {
    "36e183b7fe9445899b0c7e5e43f1ba44": {
     "model_module": "@jupyter-widgets/controls",
     "model_module_version": "1.5.0",
     "model_name": "DescriptionStyleModel",
     "state": {
      "_model_module": "@jupyter-widgets/controls",
      "_model_module_version": "1.5.0",
      "_model_name": "DescriptionStyleModel",
      "_view_count": null,
      "_view_module": "@jupyter-widgets/base",
      "_view_module_version": "1.2.0",
      "_view_name": "StyleView",
      "description_width": ""
     }
    },
    "3dae56d763d5406987e4826b8dc4ac02": {
     "model_module": "@jupyter-widgets/controls",
     "model_module_version": "1.5.0",
     "model_name": "ProgressStyleModel",
     "state": {
      "_model_module": "@jupyter-widgets/controls",
      "_model_module_version": "1.5.0",
      "_model_name": "ProgressStyleModel",
      "_view_count": null,
      "_view_module": "@jupyter-widgets/base",
      "_view_module_version": "1.2.0",
      "_view_name": "StyleView",
      "bar_color": null,
      "description_width": ""
     }
    },
    "3db375df260649ca9f76fe7d9f4958a9": {
     "model_module": "@jupyter-widgets/controls",
     "model_module_version": "1.5.0",
     "model_name": "DescriptionStyleModel",
     "state": {
      "_model_module": "@jupyter-widgets/controls",
      "_model_module_version": "1.5.0",
      "_model_name": "DescriptionStyleModel",
      "_view_count": null,
      "_view_module": "@jupyter-widgets/base",
      "_view_module_version": "1.2.0",
      "_view_name": "StyleView",
      "description_width": ""
     }
    },
    "6163565e517f4dd295909262c870e567": {
     "model_module": "@jupyter-widgets/base",
     "model_module_version": "1.2.0",
     "model_name": "LayoutModel",
     "state": {
      "_model_module": "@jupyter-widgets/base",
      "_model_module_version": "1.2.0",
      "_model_name": "LayoutModel",
      "_view_count": null,
      "_view_module": "@jupyter-widgets/base",
      "_view_module_version": "1.2.0",
      "_view_name": "LayoutView",
      "align_content": null,
      "align_items": null,
      "align_self": null,
      "border": null,
      "bottom": null,
      "display": null,
      "flex": null,
      "flex_flow": null,
      "grid_area": null,
      "grid_auto_columns": null,
      "grid_auto_flow": null,
      "grid_auto_rows": null,
      "grid_column": null,
      "grid_gap": null,
      "grid_row": null,
      "grid_template_areas": null,
      "grid_template_columns": null,
      "grid_template_rows": null,
      "height": null,
      "justify_content": null,
      "justify_items": null,
      "left": null,
      "margin": null,
      "max_height": null,
      "max_width": null,
      "min_height": null,
      "min_width": null,
      "object_fit": null,
      "object_position": null,
      "order": null,
      "overflow": null,
      "overflow_x": null,
      "overflow_y": null,
      "padding": null,
      "right": null,
      "top": null,
      "visibility": null,
      "width": null
     }
    },
    "66271fdae0dc47809a0b7e2396b3bfcf": {
     "model_module": "@jupyter-widgets/controls",
     "model_module_version": "1.5.0",
     "model_name": "HTMLModel",
     "state": {
      "_dom_classes": [],
      "_model_module": "@jupyter-widgets/controls",
      "_model_module_version": "1.5.0",
      "_model_name": "HTMLModel",
      "_view_count": null,
      "_view_module": "@jupyter-widgets/controls",
      "_view_module_version": "1.5.0",
      "_view_name": "HTMLView",
      "description": "",
      "description_tooltip": null,
      "layout": "IPY_MODEL_6163565e517f4dd295909262c870e567",
      "placeholder": "​",
      "style": "IPY_MODEL_36e183b7fe9445899b0c7e5e43f1ba44",
      "value": "Meta-Llama-3.1-8B-Instruct-Q8_0.gguf: 100%"
     }
    },
    "6cc3a1b8b7e94cda8af8e21fa4e5cd33": {
     "model_module": "@jupyter-widgets/controls",
     "model_module_version": "1.5.0",
     "model_name": "HBoxModel",
     "state": {
      "_dom_classes": [],
      "_model_module": "@jupyter-widgets/controls",
      "_model_module_version": "1.5.0",
      "_model_name": "HBoxModel",
      "_view_count": null,
      "_view_module": "@jupyter-widgets/controls",
      "_view_module_version": "1.5.0",
      "_view_name": "HBoxView",
      "box_style": "",
      "children": [
       "IPY_MODEL_66271fdae0dc47809a0b7e2396b3bfcf",
       "IPY_MODEL_eeed651f23d546a2b16952cad9bf3388",
       "IPY_MODEL_7564895c8a9e440da0e31e28764e057e"
      ],
      "layout": "IPY_MODEL_8ca2bb6570614f5195763f129a8e7c80"
     }
    },
    "7564895c8a9e440da0e31e28764e057e": {
     "model_module": "@jupyter-widgets/controls",
     "model_module_version": "1.5.0",
     "model_name": "HTMLModel",
     "state": {
      "_dom_classes": [],
      "_model_module": "@jupyter-widgets/controls",
      "_model_module_version": "1.5.0",
      "_model_name": "HTMLModel",
      "_view_count": null,
      "_view_module": "@jupyter-widgets/controls",
      "_view_module_version": "1.5.0",
      "_view_name": "HTMLView",
      "description": "",
      "description_tooltip": null,
      "layout": "IPY_MODEL_93c0781e13944930b82941bcaed94686",
      "placeholder": "​",
      "style": "IPY_MODEL_3db375df260649ca9f76fe7d9f4958a9",
      "value": " 8.54G/8.54G [03:23&lt;00:00, 39.6MB/s]"
     }
    },
    "8ca2bb6570614f5195763f129a8e7c80": {
     "model_module": "@jupyter-widgets/base",
     "model_module_version": "1.2.0",
     "model_name": "LayoutModel",
     "state": {
      "_model_module": "@jupyter-widgets/base",
      "_model_module_version": "1.2.0",
      "_model_name": "LayoutModel",
      "_view_count": null,
      "_view_module": "@jupyter-widgets/base",
      "_view_module_version": "1.2.0",
      "_view_name": "LayoutView",
      "align_content": null,
      "align_items": null,
      "align_self": null,
      "border": null,
      "bottom": null,
      "display": null,
      "flex": null,
      "flex_flow": null,
      "grid_area": null,
      "grid_auto_columns": null,
      "grid_auto_flow": null,
      "grid_auto_rows": null,
      "grid_column": null,
      "grid_gap": null,
      "grid_row": null,
      "grid_template_areas": null,
      "grid_template_columns": null,
      "grid_template_rows": null,
      "height": null,
      "justify_content": null,
      "justify_items": null,
      "left": null,
      "margin": null,
      "max_height": null,
      "max_width": null,
      "min_height": null,
      "min_width": null,
      "object_fit": null,
      "object_position": null,
      "order": null,
      "overflow": null,
      "overflow_x": null,
      "overflow_y": null,
      "padding": null,
      "right": null,
      "top": null,
      "visibility": null,
      "width": null
     }
    },
    "93c0781e13944930b82941bcaed94686": {
     "model_module": "@jupyter-widgets/base",
     "model_module_version": "1.2.0",
     "model_name": "LayoutModel",
     "state": {
      "_model_module": "@jupyter-widgets/base",
      "_model_module_version": "1.2.0",
      "_model_name": "LayoutModel",
      "_view_count": null,
      "_view_module": "@jupyter-widgets/base",
      "_view_module_version": "1.2.0",
      "_view_name": "LayoutView",
      "align_content": null,
      "align_items": null,
      "align_self": null,
      "border": null,
      "bottom": null,
      "display": null,
      "flex": null,
      "flex_flow": null,
      "grid_area": null,
      "grid_auto_columns": null,
      "grid_auto_flow": null,
      "grid_auto_rows": null,
      "grid_column": null,
      "grid_gap": null,
      "grid_row": null,
      "grid_template_areas": null,
      "grid_template_columns": null,
      "grid_template_rows": null,
      "height": null,
      "justify_content": null,
      "justify_items": null,
      "left": null,
      "margin": null,
      "max_height": null,
      "max_width": null,
      "min_height": null,
      "min_width": null,
      "object_fit": null,
      "object_position": null,
      "order": null,
      "overflow": null,
      "overflow_x": null,
      "overflow_y": null,
      "padding": null,
      "right": null,
      "top": null,
      "visibility": null,
      "width": null
     }
    },
    "af14b0d03d3d4f29813910537e29262b": {
     "model_module": "@jupyter-widgets/base",
     "model_module_version": "1.2.0",
     "model_name": "LayoutModel",
     "state": {
      "_model_module": "@jupyter-widgets/base",
      "_model_module_version": "1.2.0",
      "_model_name": "LayoutModel",
      "_view_count": null,
      "_view_module": "@jupyter-widgets/base",
      "_view_module_version": "1.2.0",
      "_view_name": "LayoutView",
      "align_content": null,
      "align_items": null,
      "align_self": null,
      "border": null,
      "bottom": null,
      "display": null,
      "flex": null,
      "flex_flow": null,
      "grid_area": null,
      "grid_auto_columns": null,
      "grid_auto_flow": null,
      "grid_auto_rows": null,
      "grid_column": null,
      "grid_gap": null,
      "grid_row": null,
      "grid_template_areas": null,
      "grid_template_columns": null,
      "grid_template_rows": null,
      "height": null,
      "justify_content": null,
      "justify_items": null,
      "left": null,
      "margin": null,
      "max_height": null,
      "max_width": null,
      "min_height": null,
      "min_width": null,
      "object_fit": null,
      "object_position": null,
      "order": null,
      "overflow": null,
      "overflow_x": null,
      "overflow_y": null,
      "padding": null,
      "right": null,
      "top": null,
      "visibility": null,
      "width": null
     }
    },
    "eeed651f23d546a2b16952cad9bf3388": {
     "model_module": "@jupyter-widgets/controls",
     "model_module_version": "1.5.0",
     "model_name": "FloatProgressModel",
     "state": {
      "_dom_classes": [],
      "_model_module": "@jupyter-widgets/controls",
      "_model_module_version": "1.5.0",
      "_model_name": "FloatProgressModel",
      "_view_count": null,
      "_view_module": "@jupyter-widgets/controls",
      "_view_module_version": "1.5.0",
      "_view_name": "ProgressView",
      "bar_style": "success",
      "description": "",
      "description_tooltip": null,
      "layout": "IPY_MODEL_af14b0d03d3d4f29813910537e29262b",
      "max": 8540775840,
      "min": 0,
      "orientation": "horizontal",
      "style": "IPY_MODEL_3dae56d763d5406987e4826b8dc4ac02",
      "value": 8540775840
     }
    }
   }
  }
 },
 "nbformat": 4,
 "nbformat_minor": 4
}
