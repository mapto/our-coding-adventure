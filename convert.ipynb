{
 "cells": [
  {
   "cell_type": "markdown",
   "id": "c683cd2c-3802-4bb2-a9f9-7160daf3cc1e",
   "metadata": {},
   "source": [
    "This script converts the generated markdown prompts and responses to a minipage-based overview.\n",
    "\n",
    "For better handling of margins, this happens in three steps:\n",
    "1. pandoc converts markdown to open document format\n",
    "2. LibreOffice converts open document format to PDF\n",
    "3. PDF printing wraps the pages in 4x4 overview."
   ]
  },
  {
   "cell_type": "markdown",
   "id": "e4a38465-1784-442c-9bcd-6b170298d975",
   "metadata": {},
   "source": [
    "install and load dependencies, set parameters"
   ]
  },
  {
   "cell_type": "raw",
   "id": "1643bde2-c820-43f6-a3fa-548160c8d8dd",
   "metadata": {},
   "source": [
    "!pip install pypandoc==1.15"
   ]
  },
  {
   "cell_type": "code",
   "execution_count": null,
   "id": "e203424f-f2b1-4562-9b65-274b60e9caa5",
   "metadata": {},
   "outputs": [],
   "source": [
    "from glob import glob\n",
    "from tqdm import tqdm\n",
    "import pypandoc"
   ]
  },
  {
   "cell_type": "code",
   "execution_count": null,
   "id": "2e5d203d-7d02-4cbe-95fb-082affb9485d",
   "metadata": {},
   "outputs": [],
   "source": [
    "# output_format = \"pdf\"  # not nice document\n",
    "output_format = \"odt\"\n",
    "\n",
    "extra = [\"--reference-doc\", f\"template.{output_format}\"]"
   ]
  },
  {
   "cell_type": "markdown",
   "id": "a06780fc-5368-4a78-9065-b3d26c0e5bde",
   "metadata": {},
   "source": [
    "convert"
   ]
  },
  {
   "cell_type": "code",
   "execution_count": null,
   "id": "b2fcdc96-e6e5-4b6b-992c-3db3f1c129a9",
   "metadata": {},
   "outputs": [],
   "source": [
    "for fname in tqdm(glob(\"results/*.txt\")):\n",
    "    out = pypandoc.convert_file(\n",
    "        fname,\n",
    "        output_format,\n",
    "        format=\"md\",\n",
    "        outputfile=f\"{fname}.{output_format}\",\n",
    "        extra_args=extra,\n",
    "    )\n",
    "    assert out == \"\""
   ]
  },
  {
   "cell_type": "markdown",
   "id": "c0592cc7-b35c-46f0-a4ec-659906c3824b",
   "metadata": {},
   "source": [
    "run next step from terminal with LibreOffice installed"
   ]
  },
  {
   "cell_type": "raw",
   "id": "45a43517-c229-46f1-9d16-04981774414b",
   "metadata": {},
   "source": [
    "loffice --convert-to 'pdf:writer_pdf_Export:{\\\"PageRange\\\":{\\\"type\\\":\\\"string\\\",\\\"value\\\":\\\"1\\\"}}' *.odt"
   ]
  }
 ],
 "metadata": {
  "kernelspec": {
   "display_name": "cubetto",
   "language": "python",
   "name": "cubetto"
  },
  "language_info": {
   "codemirror_mode": {
    "name": "ipython",
    "version": 3
   },
   "file_extension": ".py",
   "mimetype": "text/x-python",
   "name": "python",
   "nbconvert_exporter": "python",
   "pygments_lexer": "ipython3",
   "version": "3.10.12"
  }
 },
 "nbformat": 4,
 "nbformat_minor": 5
}
